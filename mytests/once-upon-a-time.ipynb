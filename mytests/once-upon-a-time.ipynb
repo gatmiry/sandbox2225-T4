{
 "cells": [
  {
   "cell_type": "code",
   "execution_count": 5,
   "metadata": {},
   "outputs": [
    {
     "name": "stdout",
     "output_type": "stream",
     "text": [
      "tensor([[7454, 2402,  257,  640,   11]], device='cuda:0')\n",
      "torch.Size([1, 1, 768])\n"
     ]
    }
   ],
   "source": [
    "from transformers import AutoTokenizer, AutoModel\n",
    "import torch\n",
    "tokenizer = AutoTokenizer.from_pretrained('gpt2')\n",
    "input_str = 'Once upon a time,'\n",
    "input_ids = tokenizer(input_str, return_tensors='pt')['input_ids'].to('cuda')\n",
    "from mymodelnew4 import MyModel\n",
    "#mymodel = MyModel.from_pretrained('posmodel3_weights_2024-08-01--05:36:40alaki')\n",
    "mymodel = MyModel.from_pretrained('nodotmodel3_weights_2024-08-05--20:10:40alaki')\n",
    "mymodel = mymodel.to('cuda')\n",
    "print(input_ids)\n",
    "\n",
    "raw_story = '''Once upon a time, there was a little boy named Tom. Tom had a special belt that he loved to wear. One day, he could not find his belt and felt very sad.\\n\\nTom\\'s mom saw him and asked, \"Why are you sad, Tom?\" Tom replied, \"I can\\'t find my belt, and I miss it.\" His mom wanted to comfort him, so she said, \"Let\\'s look for it together.\"\\n\\nThey looked and looked, and finally, they found the belt under Tom\\'s bed. Tom was so happy, and his mom gave him a big hug. From that day on, Tom always remembered to keep his belt in a safe place.'''\n",
    "raw_input_ids = tokenizer(raw_story, return_tensors='pt')['input_ids'].to('cuda')\n",
    "hidden_embedding = mymodel.encoder(raw_input_ids).last_hidden_state.detach()[:, -1, :].unsqueeze(1)\n",
    "print(hidden_embedding.shape)"
   ]
  },
  {
   "cell_type": "code",
   "execution_count": 7,
   "metadata": {},
   "outputs": [
    {
     "data": {
      "text/plain": [
       "'<|endoftext|>'"
      ]
     },
     "execution_count": 7,
     "metadata": {},
     "output_type": "execute_result"
    }
   ],
   "source": [
    "tokenizer.decode(50256)"
   ]
  },
  {
   "cell_type": "code",
   "execution_count": 6,
   "metadata": {},
   "outputs": [
    {
     "name": "stdout",
     "output_type": "stream",
     "text": [
      "Once upon a time, there was a little boy named Tim. Tim had a favorite belt, a big doll he loved to play with. One day, his belt disappeared and he was very sad.\n",
      "\n",
      "Tim saw his mom crying, and asked her, \"Why are you sad?\" His mom replied, \"I can't find my belt, but I love you.\" Tim asked her to just find it, and his mom would look. She found it under her bed and said, \"I understand, now.\"\n",
      "\n",
      "Tim and his mom gave a big hug, even to his lost doll. Tim learned that it's always okay to feel sad, but always use your eyes to keep you happy. The missing belt helped him in a safe place to sleep.<|endoftext|> is a lesson learned.<|endoftext|><|endoftext|><|endoftext|><|endoftext|><|endoftext|><|endoftext|><|endoftext|><|endoftext|><|endoftext|><|endoftext|><|endoftext|><|endoftext|><|endoftext|><|endoftext|><|endoftext|><|endoftext|><|endoftext|><|endoftext|><|endoftext|><|endoftext|><|endoftext|><|endoftext|><|endoftext|><|endoftext|><|endoftext|><|endoftext|><|endoftext|><|endoftext|><|endoftext|><|endoftext|><|endoftext|><|endoftext|><|endoftext|><|endoftext|><|endoftext|><|endoftext|><|endoftext|><|endoftext|><|endoftext|><|endoftext|><|endoftext|><|endoftext|><|endoftext|><|endoftext|><|endoftext|><|endoftext|><|endoftext|><|endoftext|><|endoftext|><|endoftext|><|endoftext|><|endoftext|><|endoftext|><|endoftext|><|endoftext|><|endoftext|><|endoftext|><|endoftext|><|endoftext|><|endoftext|><|endoftext|><|endoftext|><|endoftext|><|endoftext|><|endoftext|><|endoftext|><|endoftext|><|endoftext|><|endoftext|><|endoftext|><|endoftext|><|endoftext|><|endoftext|><|endoftext|><|endoftext|><|endoftext|><|endoftext|><|endoftext|><|endoftext|><|endoftext|><|endoftext|><|endoftext|><|endoftext|><|endoftext|><|endoftext|><|endoftext|><|endoftext|><|endoftext|><|endoftext|><|endoftext|><|endoftext|><|endoftext|><|endoftext|><|endoftext|><|endoftext|><|endoftext|><|endoftext|><|endoftext|><|endoftext|><|endoftext|><|endoftext|><|endoftext|><|endoftext|><|endoftext|><|endoftext|><|endoftext|><|endoftext|><|endoftext|><|endoftext|><|endoftext|><|endoftext|><|endoftext|><|endoftext|><|endoftext|><|endoftext|><|endoftext|><|endoftext|><|endoftext|><|endoftext|><|endoftext|><|endoftext|><|endoftext|><|endoftext|><|endoftext|><|endoftext|><|endoftext|><|endoftext|><|endoftext|><|endoftext|><|endoftext|><|endoftext|><|endoftext|><|endoftext|><|endoftext|><|endoftext|><|endoftext|><|endoftext|><|endoftext|><|endoftext|><|endoftext|><|endoftext|><|endoftext|><|endoftext|><|endoftext|><|endoftext|>\n",
      "tensor([ 7454,  2402,   257,   640,    11,   612,   373,   257,  1310,  2933,\n",
      "         3706,  5045,    13,  5045,   550,   257,  4004, 10999,    11,   257,\n",
      "         1263,  3654,   339,  6151,   284,   711,   351,    13,  1881,  1110,\n",
      "           11,   465, 10999, 12120,   290,   339,   373,   845,  6507,    13,\n",
      "          198,   198, 14967,  2497,   465,  1995, 13774,    11,   290,  1965,\n",
      "          607,    11,   366,  5195,   389,   345,  6507,  1701,  2399,  1995,\n",
      "         8712,    11,   366,    40,   460,   470,  1064,   616, 10999,    11,\n",
      "          475,   314,  1842,   345,   526,  5045,  1965,   607,   284,   655,\n",
      "         1064,   340,    11,   290,   465,  1995,   561,   804,    13,  1375,\n",
      "         1043,   340,   739,   607,  3996,   290,   531,    11,   366,    40,\n",
      "         1833,    11,   783,   526,   198,   198, 14967,   290,   465,  1995,\n",
      "         2921,   257,  1263, 16225,    11,   772,   284,   465,  2626,  3654,\n",
      "           13,  5045,  4499,   326,   340,   338,  1464,  8788,   284,  1254,\n",
      "         6507,    11,   475,  1464,   779,   534,  2951,   284,  1394,   345,\n",
      "         3772,    13,   383,  4814, 10999,  4193,   683,   287,   257,  3338,\n",
      "         1295,   284,  3993,    13, 50256,   318,   257, 11483,  4499,    13,\n",
      "        50256, 50256, 50256, 50256, 50256, 50256, 50256, 50256, 50256, 50256,\n",
      "        50256, 50256, 50256, 50256, 50256, 50256, 50256, 50256, 50256, 50256,\n",
      "        50256, 50256, 50256, 50256, 50256, 50256, 50256, 50256, 50256, 50256,\n",
      "        50256, 50256, 50256, 50256, 50256, 50256, 50256, 50256, 50256, 50256,\n",
      "        50256, 50256, 50256, 50256, 50256, 50256, 50256, 50256, 50256, 50256,\n",
      "        50256, 50256, 50256, 50256, 50256, 50256, 50256, 50256, 50256, 50256,\n",
      "        50256, 50256, 50256, 50256, 50256, 50256, 50256, 50256, 50256, 50256,\n",
      "        50256, 50256, 50256, 50256, 50256, 50256, 50256, 50256, 50256, 50256,\n",
      "        50256, 50256, 50256, 50256, 50256, 50256, 50256, 50256, 50256, 50256,\n",
      "        50256, 50256, 50256, 50256, 50256, 50256, 50256, 50256, 50256, 50256,\n",
      "        50256, 50256, 50256, 50256, 50256, 50256, 50256, 50256, 50256, 50256,\n",
      "        50256, 50256, 50256, 50256, 50256, 50256, 50256, 50256, 50256, 50256,\n",
      "        50256, 50256, 50256, 50256, 50256, 50256, 50256, 50256, 50256, 50256,\n",
      "        50256, 50256, 50256, 50256, 50256, 50256, 50256, 50256, 50256, 50256,\n",
      "        50256, 50256, 50256, 50256, 50256], device='cuda:0')\n"
     ]
    },
    {
     "data": {
      "text/plain": [
       "'Once upon a time, there was a little boy named Tim. Tim had a favorite belt, a big doll he loved to play with. One day, his belt disappeared and he was very sad.\\n\\nTim saw his mom crying, and asked her, \"Why are you sad?\" His mom replied, \"I can\\'t find my belt, but I love you.\" Tim asked her to just find it, and his mom would look. She found it under her bed and said, \"I understand, now.\"\\n\\nTim and his mom gave a big hug, even to his lost doll. Tim learned that it\\'s always okay to feel sad, but always use your eyes to keep you happy. The missing belt helped him in a safe place to sleep.<|endoftext|> is a lesson learned.<|endoftext|><|endoftext|><|endoftext|><|endoftext|><|endoftext|><|endoftext|><|endoftext|><|endoftext|><|endoftext|>'"
      ]
     },
     "execution_count": 6,
     "metadata": {},
     "output_type": "execute_result"
    }
   ],
   "source": [
    "\n",
    "\n",
    "#mymodel = AutoModel.from_pretrained('gpt2').to('cuda')\n",
    "#input_ids = input_ids[0]\n",
    "for i in range(300):\n",
    "    #print(mymodel(input_ids)['logits'])\n",
    "    position_ids = torch.arange(input_ids.shape[1], dtype=torch.long, device='cuda')\n",
    "    position_ids = position_ids.unsqueeze(0)\n",
    "    inputs_embeds = mymodel.decoder.wte(input_ids)\n",
    "    position_embeds = mymodel.decoder.wpe(position_ids)\n",
    "    hidden_states = inputs_embeds + position_embeds\n",
    "\n",
    "    updated_input_ids = torch.cat((hidden_embedding, hidden_states), dim=1)\n",
    "    output_index = torch.argmax(mymodel.lm_head(mymodel.decoder(inputs_embeds=updated_input_ids)[0]), dim=2)\n",
    "    #print('output index is ', output_index[:,-1])\n",
    "    #print('input_ids is ', input_ids)\n",
    "    input_ids = torch.cat((input_ids, output_index[:,-1].unsqueeze(0)), dim=1)\n",
    "    #print(input_ids)\n",
    "print(tokenizer.decode(input_ids[0]))\n",
    "\n",
    "#print(mymodel.lm_head.weight)\n",
    "#print(mymodel(input_ids.to('cuda')))\n",
    "\n",
    "#input=_ids = input_ids.to('cuda')\n"
   ]
  },
  {
   "cell_type": "code",
   "execution_count": 1,
   "metadata": {},
   "outputs": [
    {
     "name": "stderr",
     "output_type": "stream",
     "text": [
      "/home/t-kgatmiry/miniconda3/envs/env3/lib/python3.11/site-packages/tqdm/auto.py:21: TqdmWarning: IProgress not found. Please update jupyter and ipywidgets. See https://ipywidgets.readthedocs.io/en/stable/user_install.html\n",
      "  from .autonotebook import tqdm as notebook_tqdm\n",
      "Repo card metadata block was not found. Setting CardData to empty.\n"
     ]
    },
    {
     "data": {
      "text/plain": [
       "DatasetDict({\n",
       "    train: Dataset({\n",
       "        features: ['text'],\n",
       "        num_rows: 2119719\n",
       "    })\n",
       "    validation: Dataset({\n",
       "        features: ['text'],\n",
       "        num_rows: 21990\n",
       "    })\n",
       "})"
      ]
     },
     "execution_count": 1,
     "metadata": {},
     "output_type": "execute_result"
    }
   ],
   "source": [
    "from transformers import AutoTokenizer, GPT2LMHeadModel\n",
    "import torch\n",
    "from datasets import load_dataset\n",
    "tinystories =  load_dataset(\"roneneldan/TinyStories\")\n",
    "tinystories"
   ]
  },
  {
   "cell_type": "code",
   "execution_count": 3,
   "metadata": {},
   "outputs": [
    {
     "data": {
      "text/plain": [
       "'Once upon a time, there was a little boy named Tom. Tom had a special belt that he loved to wear. One day, he could not find his belt and felt very sad.\\n\\nTom\\'s mom saw him and asked, \"Why are you sad, Tom?\" Tom replied, \"I can\\'t find my belt, and I miss it.\" His mom wanted to comfort him, so she said, \"Let\\'s look for it together.\"\\n\\nThey looked and looked, and finally, they found the belt under Tom\\'s bed. Tom was so happy, and his mom gave him a big hug. From that day on, Tom always remembered to keep his belt in a safe place.'"
      ]
     },
     "execution_count": 3,
     "metadata": {},
     "output_type": "execute_result"
    }
   ],
   "source": [
    "\n",
    "tokenized_datasets = load_from_disk('./model3-outputs-gpt2tokenizer-varlength')"
   ]
  },
  {
   "cell_type": "code",
   "execution_count": 5,
   "metadata": {},
   "outputs": [
    {
     "data": {
      "text/plain": [
       "tensor([2, 3, 6])"
      ]
     },
     "execution_count": 5,
     "metadata": {},
     "output_type": "execute_result"
    }
   ],
   "source": [
    "import torch\n",
    "mytensor = torch.tensor([[1,2],[3,4],[5,6]])\n",
    "mytensor.shape\n",
    "mytensor[[0,1,2],[1,0,1]]"
   ]
  },
  {
   "cell_type": "code",
   "execution_count": 6,
   "metadata": {},
   "outputs": [
    {
     "name": "stdout",
     "output_type": "stream",
     "text": [
      "j is  0\n",
      "j is  0\n",
      "j is  0\n",
      "j is  0\n",
      "j is  0\n",
      "j is  0\n",
      "j is  0\n",
      "j is  0\n",
      "j is  0\n",
      "j is  0\n"
     ]
    }
   ],
   "source": [
    "for i in range(10):\n",
    "    for j in range(10):\n",
    "        print('j is ', j)\n",
    "        break"
   ]
  }
 ],
 "metadata": {
  "kernelspec": {
   "display_name": "env3",
   "language": "python",
   "name": "python3"
  },
  "language_info": {
   "codemirror_mode": {
    "name": "ipython",
    "version": 3
   },
   "file_extension": ".py",
   "mimetype": "text/x-python",
   "name": "python",
   "nbconvert_exporter": "python",
   "pygments_lexer": "ipython3",
   "version": "3.11.9"
  }
 },
 "nbformat": 4,
 "nbformat_minor": 2
}
