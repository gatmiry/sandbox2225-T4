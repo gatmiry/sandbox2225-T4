{
 "cells": [
  {
   "cell_type": "code",
   "execution_count": 3,
   "metadata": {},
   "outputs": [
    {
     "name": "stderr",
     "output_type": "stream",
     "text": [
      "/home/t-kgatmiry/miniconda3/envs/env3/lib/python3.11/site-packages/tqdm/auto.py:21: TqdmWarning: IProgress not found. Please update jupyter and ipywidgets. See https://ipywidgets.readthedocs.io/en/stable/user_install.html\n",
      "  from .autonotebook import tqdm as notebook_tqdm\n"
     ]
    }
   ],
   "source": [
    "from datasets import load_from_disk\n",
    "tokenized_dataset = load_from_disk('./model3-outputs-gpt2tokenizer-varlength')\n",
    "from transformers import AutoTokenizer\n",
    "tokenizer = AutoTokenizer.from_pretrained('gpt2')\n",
    "def tokenize(element):\n",
    "    ctx_length = 512\n",
    "    input_batch = []\n",
    "    count  = 0\n",
    "    for input_ids in element['input_ids']:\n",
    "        while len(input_ids) < ctx_length:\n",
    "            #print('im here! len is ', len(input_ids), ' count is ', count)\n",
    "            input_ids.append(tokenizer.eos_token_id)\n",
    "        input_batch.append(input_ids)\n",
    "        count += 1\n",
    "    return {'input_ids': input_batch}\n",
    "import numpy as np\n",
    "from datasets import DatasetDict\n",
    "my_batch = DatasetDict({\n",
    "    'train': tokenized_dataset['train'].select(np.arange(50)),\n",
    "    'validation': tokenized_dataset['validation'].select(np.arange(50))\n",
    "})\n",
    "my_batch\n",
    "my_batch = my_batch.map(tokenize, batched=True, remove_columns=my_batch['train'].column_names)"
   ]
  },
  {
   "cell_type": "code",
   "execution_count": 4,
   "metadata": {},
   "outputs": [],
   "source": [
    "import torch\n",
    "my_tensor = torch.tensor(my_batch['train']['input_ids'])\n",
    "flat_tensor = my_tensor.flatten()\n",
    "my_tensor.shape\n",
    "\n",
    "flat_index = (flat_tensor == 50256).nonzero(as_tuple=False)"
   ]
  },
  {
   "cell_type": "code",
   "execution_count": null,
   "metadata": {},
   "outputs": [],
   "source": [
    "torch.set_printoptions(profile=\"full\")\n",
    "print(((my_tensor == 50256).cumsum(1) == 1).argsort())"
   ]
  },
  {
   "cell_type": "code",
   "execution_count": 7,
   "metadata": {},
   "outputs": [
    {
     "data": {
      "text/plain": [
       "tensor([[1, 1],\n",
       "        [2, 6]])"
      ]
     },
     "execution_count": 7,
     "metadata": {},
     "output_type": "execute_result"
    }
   ],
   "source": [
    "myten = torch.tensor([[1,0],[2,4]])\n",
    "myten.cumsum(1)"
   ]
  },
  {
   "cell_type": "code",
   "execution_count": 3,
   "metadata": {},
   "outputs": [],
   "source": [
    "import torch\n",
    "\n",
    "batch_size = 2\n",
    "seq_len = 5\n",
    "num_classes = 10\n",
    "\n",
    "# Logits output from the model (before softmax)\n",
    "logits = torch.randn(batch_size, seq_len, num_classes)\n",
    "\n",
    "# Ground truth labels (with padding token -1)\n",
    "labels = torch.tensor([\n",
    "    [1, 2, -1, 4, 5],\n",
    "    [4, -1, 6, 7, 8]\n",
    "])\n",
    "\n",
    "mask = (labels != -1)"
   ]
  },
  {
   "cell_type": "code",
   "execution_count": 14,
   "metadata": {},
   "outputs": [
    {
     "data": {
      "text/plain": [
       "torch.Size([10, 10])"
      ]
     },
     "execution_count": 14,
     "metadata": {},
     "output_type": "execute_result"
    }
   ],
   "source": [
    "logits_flat = logits.view(-1, num_classes)\n",
    "logits_flat\n",
    "labels_flat = labels.view(-1)\n",
    "masked_loss = (labels != -1)\n",
    "masked_loss_flat = masked_loss.view(-1)\n",
    "logits_flat.shape\n",
    "#logits_flat[masked_loss_flat].shape"
   ]
  },
  {
   "cell_type": "code",
   "execution_count": null,
   "metadata": {},
   "outputs": [],
   "source": [
    "loss_fn = torch.nn.CrossEntropyLoss(reduction='none')\n",
    "loss = loss_fn(logits_flat, labels_flat)"
   ]
  },
  {
   "cell_type": "code",
   "execution_count": 7,
   "metadata": {},
   "outputs": [
    {
     "data": {
      "text/plain": [
       "'.'"
      ]
     },
     "execution_count": 7,
     "metadata": {},
     "output_type": "execute_result"
    }
   ],
   "source": [
    "from transformers import AutoTokenizer\n",
    "import torch\n",
    "tokenizer = AutoTokenizer.from_pretrained('gpt2')\n",
    "tokenizer.decode(torch.tensor([13]))"
   ]
  },
  {
   "cell_type": "code",
   "execution_count": 3,
   "metadata": {},
   "outputs": [
    {
     "name": "stderr",
     "output_type": "stream",
     "text": [
      "/home/t-kgatmiry/miniconda3/envs/env3/lib/python3.11/site-packages/tqdm/auto.py:21: TqdmWarning: IProgress not found. Please update jupyter and ipywidgets. See https://ipywidgets.readthedocs.io/en/stable/user_install.html\n",
      "  from .autonotebook import tqdm as notebook_tqdm\n"
     ]
    },
    {
     "data": {
      "text/plain": [
       "DatasetDict({\n",
       "    train: Dataset({\n",
       "        features: ['input_ids'],\n",
       "        num_rows: 2200000\n",
       "    })\n",
       "})"
      ]
     },
     "execution_count": 3,
     "metadata": {},
     "output_type": "execute_result"
    }
   ],
   "source": [
    "from datasets import load_dataset\n",
    "load_dataset('tinystories-withsummary-gpt2tokenizer')"
   ]
  },
  {
   "cell_type": "code",
   "execution_count": 7,
   "metadata": {},
   "outputs": [],
   "source": [
    "combined_dataset_dict = load_dataset('json', data_files='/home/t-kgatmiry/sandbox2225-T4/tinystories/data00.json')"
   ]
  },
  {
   "cell_type": "code",
   "execution_count": 6,
   "metadata": {},
   "outputs": [],
   "source": [
    "import torch\n",
    "from datasets import concatenate_datasets\n",
    "from datasets import DatasetDict\n",
    "from datasets import load_dataset\n",
    "#with open('/home/t-kgatmiry/sandbox2225-T4/tinystories/data01.json', 'r') as file:\n",
    "#    obj = json.load(file)\n",
    "\n",
    "\n",
    "for i in range(8,10):\n",
    "    mydict = load_dataset('json', data_files='/home/t-kgatmiry/sandbox2225-T4/tinystories/data0'+ str(i) +'.json')\n",
    "    for split in mydict.keys():\n",
    "        combined_dataset_dict[split] = concatenate_datasets([mydict[split], combined_dataset_dict[split]])\n"
   ]
  },
  {
   "cell_type": "code",
   "execution_count": 5,
   "metadata": {},
   "outputs": [
    {
     "ename": "NameError",
     "evalue": "name 'concatenate_datasets' is not defined",
     "output_type": "error",
     "traceback": [
      "\u001b[0;31m---------------------------------------------------------------------------\u001b[0m",
      "\u001b[0;31mNameError\u001b[0m                                 Traceback (most recent call last)",
      "Cell \u001b[0;32mIn[5], line 3\u001b[0m\n\u001b[1;32m      1\u001b[0m mydict \u001b[38;5;241m=\u001b[39m load_dataset(\u001b[38;5;124m'\u001b[39m\u001b[38;5;124mjson\u001b[39m\u001b[38;5;124m'\u001b[39m, data_files\u001b[38;5;241m=\u001b[39m\u001b[38;5;124m'\u001b[39m\u001b[38;5;124m/home/t-kgatmiry/sandbox2225-T4/tinystories/data20.json\u001b[39m\u001b[38;5;124m'\u001b[39m)\n\u001b[1;32m      2\u001b[0m \u001b[38;5;28;01mfor\u001b[39;00m split \u001b[38;5;129;01min\u001b[39;00m mydict\u001b[38;5;241m.\u001b[39mkeys():\n\u001b[0;32m----> 3\u001b[0m     combined_dataset_dict[split] \u001b[38;5;241m=\u001b[39m \u001b[43mconcatenate_datasets\u001b[49m([mydict[split], combined_dataset_dict[split]])\n",
      "\u001b[0;31mNameError\u001b[0m: name 'concatenate_datasets' is not defined"
     ]
    }
   ],
   "source": [
    "mydict = load_dataset('json', data_files='/home/t-kgatmiry/sandbox2225-T4/tinystories/data01.json')\n",
    "for split in mydict.keys():\n",
    "    combined_dataset_dict[split] = concatenate_datasets([mydict[split], combined_dataset_dict[split]])"
   ]
  },
  {
   "cell_type": "code",
   "execution_count": 95,
   "metadata": {},
   "outputs": [
    {
     "data": {
      "text/plain": [
       "DatasetDict({\n",
       "    train: Dataset({\n",
       "        features: ['instruction', 'story', 'summary', 'source'],\n",
       "        num_rows: 2100000\n",
       "    })\n",
       "})"
      ]
     },
     "execution_count": 95,
     "metadata": {},
     "output_type": "execute_result"
    }
   ],
   "source": [
    "combined_dataset_dict\n",
    "\n"
   ]
  },
  {
   "cell_type": "code",
   "execution_count": 32,
   "metadata": {},
   "outputs": [
    {
     "name": "stderr",
     "output_type": "stream",
     "text": [
      "Repo card metadata block was not found. Setting CardData to empty.\n"
     ]
    },
    {
     "data": {
      "text/plain": [
       "DatasetDict({\n",
       "    train: Dataset({\n",
       "        features: ['text'],\n",
       "        num_rows: 2119719\n",
       "    })\n",
       "    validation: Dataset({\n",
       "        features: ['text'],\n",
       "        num_rows: 21990\n",
       "    })\n",
       "})"
      ]
     },
     "execution_count": 32,
     "metadata": {},
     "output_type": "execute_result"
    }
   ],
   "source": [
    "from datasets import load_dataset\n",
    "ds = load_dataset(\"roneneldan/TinyStories\")\n",
    "ds"
   ]
  },
  {
   "cell_type": "code",
   "execution_count": 1,
   "metadata": {},
   "outputs": [],
   "source": [
    "def tokenize(element):\n",
    "   outputs = tokenizer(element['story'])['input_ids']\n",
    "   outputs2 = tokenizer(element['summary'])['input_ids']\n",
    "   story_input_batch = []\n",
    "   summary_input_batch = []\n",
    "   for input_ids in outputs:\n",
    "      input_ids.append(tokenizer.eos_token_id)\n",
    "      story_input_batch.append(input_ids)\n",
    "   for input_ids in outputs2:\n",
    "      input_ids.append(tokenizer.eos_token_id)\n",
    "      summary_input_batch.append(input_ids) \n",
    "   return {'story_input_ids': story_input_batch, 'summary_input_ids': summary_input_batch}"
   ]
  },
  {
   "cell_type": "code",
   "execution_count": 9,
   "metadata": {},
   "outputs": [],
   "source": [
    "def tokenize(element):\n",
    "   outputs = tokenizer(element['story'])['input_ids']\n",
    "   outputs2 = tokenizer(element['summary'])['input_ids']\n",
    "   input_batch = []\n",
    "   for i in range(len(outputs)):\n",
    "      outputs[i].append(tokenizer.eos_token_id)\n",
    "      outputs2[i].append(tokenizer.eos_token_id)\n",
    "      input_batch.append(outputs[i] + [-1] + outputs2[i])\n",
    "   return {'input_ids': input_batch}"
   ]
  },
  {
   "cell_type": "code",
   "execution_count": 97,
   "metadata": {},
   "outputs": [
    {
     "name": "stderr",
     "output_type": "stream",
     "text": [
      "Map: 100%|██████████| 2100000/2100000 [03:27<00:00, 10132.31 examples/s]\n"
     ]
    }
   ],
   "source": [
    "tokenized_dataset = combined_dataset_dict.map(tokenize, batched=True, remove_columns=combined_dataset_dict['train'].column_names)"
   ]
  },
  {
   "cell_type": "code",
   "execution_count": 2,
   "metadata": {},
   "outputs": [
    {
     "ename": "NameError",
     "evalue": "name 'tokenized_dataset' is not defined",
     "output_type": "error",
     "traceback": [
      "\u001b[0;31m---------------------------------------------------------------------------\u001b[0m",
      "\u001b[0;31mNameError\u001b[0m                                 Traceback (most recent call last)",
      "Cell \u001b[0;32mIn[2], line 1\u001b[0m\n\u001b[0;32m----> 1\u001b[0m \u001b[43mtokenized_dataset\u001b[49m\u001b[38;5;241m.\u001b[39msave_to_disk(\u001b[38;5;124m'\u001b[39m\u001b[38;5;124m./tinystories-withsummary-gpt2tokenizer\u001b[39m\u001b[38;5;124m'\u001b[39m)\n",
      "\u001b[0;31mNameError\u001b[0m: name 'tokenized_dataset' is not defined"
     ]
    }
   ],
   "source": [
    "tokenized_dataset.save_to_disk('./tinystories-withsummary-gpt2tokenizer')"
   ]
  },
  {
   "cell_type": "code",
   "execution_count": 1,
   "metadata": {},
   "outputs": [
    {
     "ename": "NameError",
     "evalue": "name 'tokenized_dataset' is not defined",
     "output_type": "error",
     "traceback": [
      "\u001b[0;31m---------------------------------------------------------------------------\u001b[0m",
      "\u001b[0;31mNameError\u001b[0m                                 Traceback (most recent call last)",
      "Cell \u001b[0;32mIn[1], line 2\u001b[0m\n\u001b[1;32m      1\u001b[0m \u001b[38;5;66;03m#len(tokenized_dataset['train']['input_ids'][1000])\u001b[39;00m\n\u001b[0;32m----> 2\u001b[0m \u001b[43mtokenized_dataset\u001b[49m\n",
      "\u001b[0;31mNameError\u001b[0m: name 'tokenized_dataset' is not defined"
     ]
    }
   ],
   "source": [
    "#len(tokenized_dataset['train']['input_ids'][1000])\n",
    "tokenized_dataset = load_dataset('./tinystories-withsummary-gpt2tokenizer')"
   ]
  },
  {
   "cell_type": "code",
   "execution_count": 22,
   "metadata": {},
   "outputs": [
    {
     "data": {
      "text/plain": [
       "50256"
      ]
     },
     "execution_count": 22,
     "metadata": {},
     "output_type": "execute_result"
    }
   ],
   "source": [
    "vocab = tokenizer.get_vocab()\n",
    "min_token_id = max(vocab.values())\n",
    "min_token_id"
   ]
  },
  {
   "cell_type": "code",
   "execution_count": 25,
   "metadata": {},
   "outputs": [
    {
     "data": {
      "text/plain": [
       "[1, 2, 3]"
      ]
     },
     "execution_count": 25,
     "metadata": {},
     "output_type": "execute_result"
    }
   ],
   "source": [
    "import torch\n",
    "myten = torch.tensor([1,2,3])\n",
    "mylist = myten.tolist()\n",
    "mylist"
   ]
  },
  {
   "cell_type": "code",
   "execution_count": 12,
   "metadata": {},
   "outputs": [],
   "source": [
    "from concurrent.futures import ThreadPoolExecutor, as_completed\n",
    "from transformers import AutoTokenizer\n",
    "tokenizer = AutoTokenizer.from_pretrained('gpt2')\n",
    "\n",
    "\n",
    "def compute(x):\n",
    "    # Example I/O-bound task (e.g., fetching a URL)\n",
    "    tokenized_story = tokenizer(x['story'])['input_ids']\n",
    "    tokenized_story.append(tokenizer.eos_token_id)\n",
    "    tokenized_summary = tokenizer(x['summary'])['input_ids']\n",
    "    tokenized_summary.append(tokenizer.eos_token_id)\n",
    "    return (tokenized_story, tokenized_summary)\n",
    "\n",
    "def parallel_compute(data):\n",
    "    results = []\n",
    "    with ThreadPoolExecutor() as executor:\n",
    "        futures = [executor.submit(compute, item) for item in data]\n",
    "        for future in as_completed(futures):\n",
    "            results.append(future.result())\n",
    "    return results"
   ]
  },
  {
   "cell_type": "code",
   "execution_count": 16,
   "metadata": {},
   "outputs": [
    {
     "data": {
      "text/plain": [
       "19"
      ]
     },
     "execution_count": 16,
     "metadata": {},
     "output_type": "execute_result"
    }
   ],
   "source": [
    "results = parallel_compute(obj[1:20])\n",
    "len(results)"
   ]
  },
  {
   "cell_type": "code",
   "execution_count": 4,
   "metadata": {},
   "outputs": [
    {
     "data": {
      "text/plain": [
       "{'input_ids': tensor([[    1,     2,     3],\n",
       "         [    4,     5, 50256]]),\n",
       " 'labels': tensor([[   1,    2,    3],\n",
       "         [   4,    5, -100]])}"
      ]
     },
     "execution_count": 4,
     "metadata": {},
     "output_type": "execute_result"
    }
   ],
   "source": [
    "from transformers import DataCollatorForLanguageModeling, AutoTokenizer, GPT2Model, AutoModel\n",
    "tokenizer = AutoTokenizer.from_pretrained('gpt2')\n",
    "data_collator = DataCollatorForLanguageModeling(tokenizer, mlm=False)\n",
    "tokenizer.pad_token = tokenizer.eos_token\n",
    "mytensor = data_collator([[1,2,3], [4,5]])\n",
    "mytensor"
   ]
  },
  {
   "cell_type": "code",
   "execution_count": 4,
   "metadata": {},
   "outputs": [
    {
     "data": {
      "text/plain": [
       "tensor([-1])"
      ]
     },
     "execution_count": 4,
     "metadata": {},
     "output_type": "execute_result"
    }
   ],
   "source": [
    "myten = torch.tensor([[-1,1,2],[4,-1,6]])\n",
    "myten[0, :1]"
   ]
  },
  {
   "cell_type": "code",
   "execution_count": 1,
   "metadata": {},
   "outputs": [
    {
     "name": "stderr",
     "output_type": "stream",
     "text": [
      "/home/t-kgatmiry/miniconda3/envs/env3/lib/python3.11/site-packages/tqdm/auto.py:21: TqdmWarning: IProgress not found. Please update jupyter and ipywidgets. See https://ipywidgets.readthedocs.io/en/stable/user_install.html\n",
      "  from .autonotebook import tqdm as notebook_tqdm\n"
     ]
    },
    {
     "name": "stdout",
     "output_type": "stream",
     "text": [
      "input_ids_main is  tensor([[    1,     7, 50256],\n",
      "        [    4, 50256, 50256]], device='cuda:0')  input_ids_summary is  tensor([[    2, 50256, 50256],\n",
      "        [    6,     9, 50256]], device='cuda:0')\n"
     ]
    },
    {
     "data": {
      "text/plain": [
       "{'loss': tensor(10.8475, device='cuda:0', grad_fn=<NllLossBackward0>),\n",
       " 'logits': tensor([[[ 0.5728,  0.8075, -0.0230,  ...,  0.1650, -0.2879, -0.0997],\n",
       "          [ 0.7980,  0.9170,  0.4490,  ...,  0.2185,  0.8730, -0.0370],\n",
       "          [-0.5922,  0.5058, -0.5181,  ..., -0.3854,  0.0182, -0.2702]],\n",
       " \n",
       "         [[ 0.6189,  0.5544,  0.4526,  ...,  0.6348, -0.1919, -0.3053],\n",
       "          [ 0.3903,  0.9254,  0.2195,  ...,  0.1465,  0.8714,  0.4362],\n",
       "          [-0.9304,  0.7725, -0.5905,  ...,  0.2377,  0.4106,  0.2702]]],\n",
       "        device='cuda:0', grad_fn=<SliceBackward0>)}"
      ]
     },
     "execution_count": 1,
     "metadata": {},
     "output_type": "execute_result"
    }
   ],
   "source": [
    "from mymodelsummary import MyModel\n",
    "from transformers import AutoConfig\n",
    "import torch\n",
    "config = AutoConfig.from_pretrained('gpt2')\n",
    "mymodel = MyModel(config)\n",
    "mymodel.to('cuda')\n",
    "\n",
    "input_ids = torch.tensor([[1,7,-1,2], [4,-1,6,9]]).to('cuda')\n",
    "mymodel(input_ids)\n",
    "#separation_indices = (input_ids == -1).nonzero()[:,1]\n"
   ]
  },
  {
   "cell_type": "code",
   "execution_count": 2,
   "metadata": {},
   "outputs": [
    {
     "data": {
      "text/plain": [
       "tensor([[False,  True, False],\n",
       "        [False, False,  True]])"
      ]
     },
     "execution_count": 2,
     "metadata": {},
     "output_type": "execute_result"
    }
   ],
   "source": [
    "input_ids_summary = torch.tensor([[1,-1,-1],[4,3,-1]])\n",
    "((input_ids_summary == -1).cumsum(1) == 1)"
   ]
  },
  {
   "cell_type": "code",
   "execution_count": 7,
   "metadata": {},
   "outputs": [
    {
     "data": {
      "text/plain": [
       "[None, None]"
      ]
     },
     "execution_count": 7,
     "metadata": {},
     "output_type": "execute_result"
    }
   ],
   "source": [
    "[input_ids[i , :separation_indices[i]].tolist().append(-100) for i in range(input_ids.shape[0])]"
   ]
  },
  {
   "cell_type": "code",
   "execution_count": 3,
   "metadata": {},
   "outputs": [
    {
     "data": {
      "text/plain": [
       "DatasetDict({\n",
       "    train: Dataset({\n",
       "        features: ['input_ids'],\n",
       "        num_rows: 4867871\n",
       "    })\n",
       "})"
      ]
     },
     "execution_count": 3,
     "metadata": {},
     "output_type": "execute_result"
    }
   ],
   "source": [
    "from datasets import load_from_disk\n",
    "tokenized_datasets = load_from_disk('./tinystories-withsummary-gpt2tokenizer-49')\n",
    "tokenized_datasets"
   ]
  }
 ],
 "metadata": {
  "kernelspec": {
   "display_name": "env3",
   "language": "python",
   "name": "python3"
  },
  "language_info": {
   "codemirror_mode": {
    "name": "ipython",
    "version": 3
   },
   "file_extension": ".py",
   "mimetype": "text/x-python",
   "name": "python",
   "nbconvert_exporter": "python",
   "pygments_lexer": "ipython3",
   "version": "3.11.9"
  }
 },
 "nbformat": 4,
 "nbformat_minor": 2
}
