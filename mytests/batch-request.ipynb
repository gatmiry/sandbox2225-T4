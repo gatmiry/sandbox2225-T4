{
 "cells": [
  {
   "cell_type": "code",
   "execution_count": 1,
   "metadata": {},
   "outputs": [
    {
     "name": "stderr",
     "output_type": "stream",
     "text": [
      "/home/t-kgatmiry/miniconda3/envs/env3/lib/python3.11/site-packages/tqdm/auto.py:21: TqdmWarning: IProgress not found. Please update jupyter and ipywidgets. See https://ipywidgets.readthedocs.io/en/stable/user_install.html\n",
      "  from .autonotebook import tqdm as notebook_tqdm\n"
     ]
    }
   ],
   "source": [
    "from get_story_func import get_stories\n",
    "import requests\n",
    "from concurrent.futures import ThreadPoolExecutor\n",
    "story = ''' Once upon a time, there was a kind farmer. He had a big cow. The cow\n",
    "#was sad. The farmer did not know why. One day, a little boy came to\n",
    "#the farm. He saw the sad cow. The boy kneeled down to talk to the cow.\n",
    "#\"Why are you sad, cow?\" he asked. The cow said, \"I am lonely. I want a\n",
    "#friend.\" The kind farmer heard the cow. He wanted to help. So, he got\n",
    "#another cow to be friends with the sad cow. The sad cow was happy now.\n",
    "#They played together every day. And the kind farmer, the little boy,\n",
    "#and the two cows all lived happily ever after.'''\n",
    "from datasets import load_dataset\n",
    "dataset = load_dataset('roneneldan/TinyStories')\n",
    "stories = dataset['validation']['text'][:100]"
   ]
  },
  {
   "cell_type": "code",
   "execution_count": 2,
   "metadata": {},
   "outputs": [
    {
     "name": "stdout",
     "output_type": "stream",
     "text": [
      "{'story': 'Once upon a time, in a big forest, there lived a rhinoceros named Roxy. Roxy loved to climb. She climbed trees, rocks, and hills. One day, Roxy found an icy hill. She had never seen anything like it before. It was shiny and cold, and she wanted to climb it.\\n\\nRoxy tried to climb the icy hill, but it was very slippery. She tried again and again, but she kept falling down. Roxy was sad. She wanted to climb the icy hill so much. Then, she saw a little bird named Billy. Billy saw that Roxy was sad and asked, \"Why are you sad, Roxy?\"\\n\\nRoxy told Billy about the icy hill and how she couldn\\'t climb it. Billy said, \"I have an idea! Let\\'s find some big leaves to put under your feet. They will help you climb the icy hill.\" Roxy and Billy looked for big leaves and found some. Roxy put the leaves under her feet and tried to climb the icy hill again.\\n\\nThis time, Roxy didn\\'t slip. She climbed and climbed until she reached the top of the icy hill. Roxy was so happy! She and Billy played on the icy hill all day. From that day on, Roxy and Billy were the best of friends, and they climbed and played together all the time. And Roxy learned that with a little help from a friend, she could climb anything.', 'story1': 'In an ancient woodland teeming with life, there resided a boisterous moose named Mortimer. Mortimer was an unusual moose; he had an insatiable passion for scaling heights. Trees, boulders, and mounds were his playgrounds. One crisp morning, Mortimer stumbled upon a strange and gleaming hill—an icy mound that sparkled like a magician\\'s trick. Intrigued by its rarity, he was determined to conquer it.\\n\\nMortimer embarked on his quest to climb the icy hill, but alas, it was slippery beyond measure. Over and over, he endeavored to reach the summit, only to find himself back at the base, disheartened and crestfallen. Mortimer\\'s heart ached with frustration for he yearned to conquer the icy mound.\\n\\nWhile Mortimer wallowed in his sorrow, he caught the attention of a vibrant woodpecker named Percy. Percy flitted nearby and, noticing Mortimer\\'s glum demeanor, asked, \"Mortimer, why do you look so downcast?\"\\n\\nWith a heavy sigh, Mortimer recounted his plight. Percy, ever the problem-solver, responded with enthusiasm, \"Fear not, my friend! I have a plan. We shall gather sturdy vines to wrap around your feet—they will provide the grip you need to climb that icy mound.\"\\n\\nUnited by their quest, Mortimer and Percy scoured the forest for resilient vines. They found several and bound them snugly around Mortimer\\'s hooves. Brimming with renewed hope, Mortimer attempted the climb once more.\\n\\nThis time, the vines worked their magic. Mortimer ascended the slick, icy surface with ease. He pressed on until he stood triumphant upon the peak. Overjoyed, Mortimer celebrated with Percy, and the two companions reveled on the icy hill for the remainder of the day.\\n\\nHenceforth, Mortimer and Percy forged a profound friendship, their bond strengthened by their adventures. They climbed every conceivable height together, their spirits intertwined. Mortimer came to understand that with a bit of ingenuity and the steadfast support of a friend, no obstacle was insurmountable.', 'story2': 'Once upon a time, in a bustling little village near the edge of a grand forest, there lived a rhinoceros named Roxy. Roxy had a peculiar love for making music. She would find various objects around her, like logs, stones, and even pots, to create wonderful melodies. One sunny afternoon, Roxy heard about an ancient, magical drum hidden deep within the forest that was said to create the most beautiful music ever heard.\\n\\nDetermined to find this magical drum, Roxy ventured into the forest. She walked for hours, exploring every nook and cranny. Along the way, she met a little bird named Billy. Billy was known in the village as a great storyteller and was intrigued by Roxy\\'s quest.\\n\\n\"Why are you venturing so deep into the forest, Roxy?\" Billy asked.\\n\\nRoxy shared her dream of finding the magical drum. Billy was excited and wanted to help. \"I have heard stories about this drum! It is said to be hidden near the enchanted waterfall, but the way there is tricky,\" Billy explained. \\n\\nTogether, Roxy and Billy continued their journey, navigating through thorny bushes, crossing narrow streams, and climbing steep ridges. As they got closer to the waterfall, they encountered a massive gorge. The bridge that once stood there had long since collapsed.\\n\\nRoxy was disheartened. \"How will we ever cross this gorge?\" she wondered aloud. Billy thought for a moment and then said, \"Let\\'s gather strong vines and sturdy branches from the forest. We can weave them into a bridge.\"\\n\\nWorking together, Roxy and Billy gathered vines and branches, crafting a makeshift bridge that held firm and allowed them to cross safely. As they reached the enchanted waterfall, they saw a glimmering object hidden behind its cascading waters. It was the magical drum!\\n\\nRoxy carefully retrieved the drum and tapped it gently. The air filled with the most enchanting music they had ever heard. They danced and sang by the waterfall, relishing the beautiful sounds. From that day on, Roxy and Billy were inseparable. They returned to the village and played the magical drum, bringing joy and music to everyone.\\n\\nRoxy learned that with determination, creativity, and a good friend, she could achieve her dreams and create magic in her life. And she and Billy made music together, filling their days with melodies and harmony for years to come.'}\n"
     ]
    }
   ],
   "source": [
    "with ThreadPoolExecutor(max_workers=100) as executor:\n",
    "    results = list(executor.map(get_stories, stories))\n",
    "\n",
    "print(results[1])\n"
   ]
  },
  {
   "cell_type": "code",
   "execution_count": 5,
   "metadata": {},
   "outputs": [
    {
     "ename": "ModuleNotFoundError",
     "evalue": "No module named 'calculate_embedding.EmbedCalculator'; 'calculate_embedding' is not a package",
     "output_type": "error",
     "traceback": [
      "\u001b[0;31m---------------------------------------------------------------------------\u001b[0m",
      "\u001b[0;31mModuleNotFoundError\u001b[0m                       Traceback (most recent call last)",
      "Cell \u001b[0;32mIn[5], line 4\u001b[0m\n\u001b[1;32m      2\u001b[0m \u001b[38;5;28;01mfrom\u001b[39;00m \u001b[38;5;21;01mcalculate_embedding\u001b[39;00m \u001b[38;5;28;01mimport\u001b[39;00m EmbedCalculator \u001b[38;5;28;01mas\u001b[39;00m MyEmbedCalculator\n\u001b[1;32m      3\u001b[0m \u001b[38;5;28;01mimport\u001b[39;00m \u001b[38;5;21;01mimportlib\u001b[39;00m\n\u001b[0;32m----> 4\u001b[0m MyEmbedCalculator \u001b[38;5;241m=\u001b[39m \u001b[43mimportlib\u001b[49m\u001b[38;5;241;43m.\u001b[39;49m\u001b[43mimport_module\u001b[49m\u001b[43m(\u001b[49m\u001b[38;5;124;43m'\u001b[39;49m\u001b[38;5;124;43mcalculate_embedding.EmbedCalculator\u001b[39;49m\u001b[38;5;124;43m'\u001b[39;49m\u001b[43m)\u001b[49m\n\u001b[1;32m      5\u001b[0m \u001b[38;5;28;01mfrom\u001b[39;00m \u001b[38;5;21;01mcalculate_embedding_OpenAI\u001b[39;00m \u001b[38;5;28;01mimport\u001b[39;00m EmbedCalculator \u001b[38;5;28;01mas\u001b[39;00m OpenAIEmbedCalculator\n\u001b[1;32m      6\u001b[0m mycalculator \u001b[38;5;241m=\u001b[39m MyEmbedCalculator()\n",
      "File \u001b[0;32m~/miniconda3/envs/env3/lib/python3.11/importlib/__init__.py:126\u001b[0m, in \u001b[0;36mimport_module\u001b[0;34m(name, package)\u001b[0m\n\u001b[1;32m    124\u001b[0m             \u001b[38;5;28;01mbreak\u001b[39;00m\n\u001b[1;32m    125\u001b[0m         level \u001b[38;5;241m+\u001b[39m\u001b[38;5;241m=\u001b[39m \u001b[38;5;241m1\u001b[39m\n\u001b[0;32m--> 126\u001b[0m \u001b[38;5;28;01mreturn\u001b[39;00m \u001b[43m_bootstrap\u001b[49m\u001b[38;5;241;43m.\u001b[39;49m\u001b[43m_gcd_import\u001b[49m\u001b[43m(\u001b[49m\u001b[43mname\u001b[49m\u001b[43m[\u001b[49m\u001b[43mlevel\u001b[49m\u001b[43m:\u001b[49m\u001b[43m]\u001b[49m\u001b[43m,\u001b[49m\u001b[43m \u001b[49m\u001b[43mpackage\u001b[49m\u001b[43m,\u001b[49m\u001b[43m \u001b[49m\u001b[43mlevel\u001b[49m\u001b[43m)\u001b[49m\n",
      "File \u001b[0;32m<frozen importlib._bootstrap>:1204\u001b[0m, in \u001b[0;36m_gcd_import\u001b[0;34m(name, package, level)\u001b[0m\n",
      "File \u001b[0;32m<frozen importlib._bootstrap>:1176\u001b[0m, in \u001b[0;36m_find_and_load\u001b[0;34m(name, import_)\u001b[0m\n",
      "File \u001b[0;32m<frozen importlib._bootstrap>:1135\u001b[0m, in \u001b[0;36m_find_and_load_unlocked\u001b[0;34m(name, import_)\u001b[0m\n",
      "\u001b[0;31mModuleNotFoundError\u001b[0m: No module named 'calculate_embedding.EmbedCalculator'; 'calculate_embedding' is not a package"
     ]
    }
   ],
   "source": [
    "import torch\n",
    "from calculate_embedding import EmbedCalculator as MyEmbedCalculator\n",
    "import importlib\n",
    "calculate_embedding = importlib.import_module('calculate_embedding')\n",
    "EmbedCalculator = getattr(calculate_embedding, 'EmbedCalculator')\n",
    "\n",
    "from calculate_embedding_OpenAI import EmbedCalculator as OpenAIEmbedCalculator\n",
    "mycalculator = MyEmbedCalculator()\n",
    "openaicalculator = OpenAIEmbedCalculator()\n",
    "a_ourmodel = mycalculator.calculate_embedding(dataset['validation']['text'][:100])\n",
    "b_ourmodel = mycalculator.calculate_embedding([element['story1'] for element in results])\n",
    "c_ourmodel = mycalculator.calculate_embedding([element['story2'] for element in results])\n",
    "a_openai = openaicalculator.calculate_embedding(dataset['validation']['text'][:100])\n",
    "b_openai = openaicalculator.calculate_embedding([element['story1'] for element in results])\n",
    "c_openai = openaicalculator.calculate_embedding([element['story2'] for element in results])\n",
    "win = 0\n",
    "lose = 0\n",
    "for vec1, vec2, vec3, vec4, vec5, vec6 in zip(a_ourmodel, b_ourmodel, c_ourmodel, a_openai, b_openai, c_openai):\n",
    "    print('our model close is ', torch.norm(vec1 - vec2), ' far is ', torch.norm(vec1 - vec3))\n",
    "    if torch.norm(vec1 - vec2) < torch.norm(vec1 - vec3):\n",
    "        win += 1\n",
    "    print('openai close is ', torch.norm(vec4 - vec5), ' far is ', torch.norm(vec4 - vec6))\n",
    "    if torch.norm(vec4 - vec5) < torch.norm(vec4 - vec6):\n",
    "        lose += 1\n",
    "#for i in range(100):\n",
    "#    a_ourmodel = mycalculator.calculate_embedding(dataset['validation']['text'][i])\n",
    "#    b_ourmodel = mycalculator.calculate_embedding(results[i]['story1'])\n",
    "#    c_ourmodel = mycalculator.calculate_embedding(results[i]['story2'])\n",
    "#    torch.norm('close is ', a_ourmodel - b_ourmodel, ' far is ', a_ourmodel - c_ourmodel)\n",
    "\n",
    "print('win is ', win, ' lose is ', lose)"
   ]
  },
  {
   "cell_type": "code",
   "execution_count": 4,
   "metadata": {},
   "outputs": [
    {
     "name": "stdout",
     "output_type": "stream",
     "text": [
      "win is  64  lose is  42\n"
     ]
    }
   ],
   "source": [
    "print('win is ', win, ' lose is ', lose)"
   ]
  }
 ],
 "metadata": {
  "kernelspec": {
   "display_name": "env3",
   "language": "python",
   "name": "python3"
  },
  "language_info": {
   "codemirror_mode": {
    "name": "ipython",
    "version": 3
   },
   "file_extension": ".py",
   "mimetype": "text/x-python",
   "name": "python",
   "nbconvert_exporter": "python",
   "pygments_lexer": "ipython3",
   "version": "3.11.9"
  }
 },
 "nbformat": 4,
 "nbformat_minor": 2
}
