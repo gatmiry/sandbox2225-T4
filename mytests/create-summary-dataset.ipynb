{
 "cells": [
  {
   "cell_type": "code",
   "execution_count": 1,
   "metadata": {},
   "outputs": [
    {
     "name": "stderr",
     "output_type": "stream",
     "text": [
      "/home/t-kgatmiry/miniconda3/envs/env3/lib/python3.11/site-packages/tqdm/auto.py:21: TqdmWarning: IProgress not found. Please update jupyter and ipywidgets. See https://ipywidgets.readthedocs.io/en/stable/user_install.html\n",
      "  from .autonotebook import tqdm as notebook_tqdm\n"
     ]
    }
   ],
   "source": [
    "from transformers import AutoTokenizer\n",
    "from datasets import load_dataset\n",
    "tokenizer = AutoTokenizer.from_pretrained('gpt2')\n",
    "def tokenize(element):\n",
    "   outputs = tokenizer(element['story'])['input_ids']\n",
    "   outputs2 = tokenizer(element['summary'])['input_ids']\n",
    "   input_batch = []\n",
    "   for i in range(len(outputs)):\n",
    "      outputs[i].append(tokenizer.eos_token_id)\n",
    "      outputs2[i].append(tokenizer.eos_token_id)\n",
    "      input_batch.append(outputs[i] + [-1] + outputs2[i])\n",
    "   return {'input_ids': input_batch}"
   ]
  },
  {
   "cell_type": "code",
   "execution_count": 2,
   "metadata": {},
   "outputs": [],
   "source": [
    "combined_dataset_dict = load_dataset('json', data_files='/home/t-kgatmiry/sandbox2225-T4/tinystories/data00.json')"
   ]
  },
  {
   "cell_type": "code",
   "execution_count": 50,
   "metadata": {},
   "outputs": [],
   "source": [
    "from datasets import concatenate_datasets\n",
    "mydict = load_dataset('json', data_files='/home/t-kgatmiry/sandbox2225-T4/tinystories/data49.json')\n",
    "for split in mydict.keys():\n",
    "    combined_dataset_dict[split] = concatenate_datasets([mydict[split], combined_dataset_dict[split]])"
   ]
  },
  {
   "cell_type": "code",
   "execution_count": 51,
   "metadata": {},
   "outputs": [
    {
     "name": "stderr",
     "output_type": "stream",
     "text": [
      "Map:   1%|          | 51000/4867871 [00:04<07:33, 10619.57 examples/s]Token indices sequence length is longer than the specified maximum sequence length for this model (1035 > 1024). Running this sequence through the model will result in indexing errors\n",
      "Map: 100%|██████████| 4867871/4867871 [07:58<00:00, 10173.24 examples/s]\n",
      "Saving the dataset (9/9 shards): 100%|██████████| 4867871/4867871 [00:06<00:00, 751935.02 examples/s]\n"
     ]
    }
   ],
   "source": [
    "tokenized_dataset = combined_dataset_dict.map(tokenize, batched=True, remove_columns=combined_dataset_dict['train'].column_names)\n",
    "tokenized_dataset.save_to_disk('./tinystories-withsummary-gpt2tokenizer-49')"
   ]
  }
 ],
 "metadata": {
  "kernelspec": {
   "display_name": "env3",
   "language": "python",
   "name": "python3"
  },
  "language_info": {
   "codemirror_mode": {
    "name": "ipython",
    "version": 3
   },
   "file_extension": ".py",
   "mimetype": "text/x-python",
   "name": "python",
   "nbconvert_exporter": "python",
   "pygments_lexer": "ipython3",
   "version": "3.11.9"
  }
 },
 "nbformat": 4,
 "nbformat_minor": 2
}
