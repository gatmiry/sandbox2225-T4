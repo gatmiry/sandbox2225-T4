{
 "cells": [
  {
   "cell_type": "code",
   "execution_count": null,
   "metadata": {},
   "outputs": [],
   "source": [
    "from datasets import load_from_disk\n",
    "dataset = load_from_disk('./conversational-dataset-3000')\n",
    "from transformers import AutoTokenizer\n",
    "tokenizer = AutoTokenizer.from_pretrained('gpt2')\n",
    "\n",
    "for i in range(1000):\n",
    "    #if tokenizer.decode(dataset['train']['input_ids'][i][0])[:4] != 'User' and tokenizer.decode(dataset['train']['input_ids'][i][0])[:10] != 'Background':\n",
    "    print('problem') \n",
    "    print([tokenizer.decode(paragraph) for paragraph in dataset['train']['input_ids'][i]])\n",
    "\n",
    "#[tokenizer.decode(paragraph) for paragraph in dataset['train']['input_ids'][3]]"
   ]
  }
 ],
 "metadata": {
  "language_info": {
   "name": "python"
  }
 },
 "nbformat": 4,
 "nbformat_minor": 2
}
